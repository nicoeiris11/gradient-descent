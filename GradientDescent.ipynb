{
  "nbformat": 4,
  "nbformat_minor": 0,
  "metadata": {
    "colab": {
      "name": "GradientDescent.ipynb",
      "provenance": [],
      "collapsed_sections": [],
      "include_colab_link": true
    },
    "kernelspec": {
      "name": "python3",
      "display_name": "Python 3"
    }
  },
  "cells": [
    {
      "cell_type": "markdown",
      "metadata": {
        "id": "view-in-github",
        "colab_type": "text"
      },
      "source": [
        "<a href=\"https://colab.research.google.com/github/nicoeiris11/gradient-descent/blob/master/GradientDescent.ipynb\" target=\"_parent\"><img src=\"https://colab.research.google.com/assets/colab-badge.svg\" alt=\"Open In Colab\"/></a>"
      ]
    },
    {
      "cell_type": "markdown",
      "metadata": {
        "id": "zQPktYJFP9av",
        "colab_type": "text"
      },
      "source": [
        "# Planteo\n",
        "\n",
        "En esta práctica vamos a ver en detalle como funciona SGD. Comenzamos con modelos lineales simples para resolver un problema de ejemplo con el objetivo de entender como funcionan los algoritmos sobre los que después vamos a construir redes complejas. \n",
        "\n",
        "El problema puntual es el siguiente:\n",
        "\n",
        "Tenemos varias mediciones de temperatura en grados celsius y la misma cantidad de mediciones en una unidad desconocida (tomadas por un termómetro que no indica la unidad). Queremos ver si podemos encontrar una función que transforme de esta unidad desconocida a grados celsius.\n",
        "\n",
        "***\n",
        "\n",
        "Las medidas tomadas son las siguientes:\n",
        "\n",
        "Grados celsius: [0.5,  14.0, 15.0, 28.0, 11.0,  8.0,  3.0, -4.0,  6.0, 13.0, 21.0]\n",
        "\n",
        "Equivalente en unidad desconocida: [35.7, 55.9, 58.2, 81.9, 56.3, 48.9, 33.9, 21.8, 48.4, 60.4, 68.4]\n"
      ]
    },
    {
      "cell_type": "code",
      "metadata": {
        "id": "tif_gjLzP0I2",
        "colab_type": "code",
        "colab": {}
      },
      "source": [
        "import torch\n",
        "import numpy as np\n",
        "\n",
        "inputs = torch.tensor([35.7, 55.9, 58.2, 81.9, 56.3, 48.9, 33.9, 21.8, 48.4, 60.4, 68.4])  # Datos observados\n",
        "targets = torch.tensor([0.5, 14.0, 15.0, 28.0, 11.0, 8.0, 3.0, -4.0, 6.0, 13.0, 21.0])     # Equivalente en celsius\n",
        "\n",
        "inputs = inputs / 10  # Normalizamos los datos para facilitar entrenamiento."
      ],
      "execution_count": null,
      "outputs": []
    },
    {
      "cell_type": "markdown",
      "metadata": {
        "id": "W95Wk3ncbA6h",
        "colab_type": "text"
      },
      "source": [
        "Definimos un modelo lineal (regresion) como una función, la misma recibe el input (X), los pesos (W) y los bias (b). \n",
        "\n",
        "Al ser una regresión lineal, el modelo simplemente computa el producto de cada peso por el input y le suma el bias (No es una red, no tiene activacion!)\n"
      ]
    },
    {
      "cell_type": "code",
      "metadata": {
        "id": "xi7NCDHoZoSB",
        "colab_type": "code",
        "colab": {}
      },
      "source": [
        "def model(X, w, b):\n",
        "  return X * w + b"
      ],
      "execution_count": null,
      "outputs": []
    },
    {
      "cell_type": "code",
      "metadata": {
        "id": "7vWPSJeAdTWY",
        "colab_type": "code",
        "colab": {
          "base_uri": "https://localhost:8080/",
          "height": 51
        },
        "outputId": "54411d23-1763-46b2-cfa5-790f75e31152"
      },
      "source": [
        "# Como usamos el modelo\n",
        "\n",
        "w_test = torch.ones(())\n",
        "b_test = torch.zeros(())\n",
        "\n",
        "prediccion = model(inputs, w_test, b_test)\n",
        "prediccion"
      ],
      "execution_count": null,
      "outputs": [
        {
          "output_type": "execute_result",
          "data": {
            "text/plain": [
              "tensor([3.5700, 5.5900, 5.8200, 8.1900, 5.6300, 4.8900, 3.3900, 2.1800, 4.8400,\n",
              "        6.0400, 6.8400])"
            ]
          },
          "metadata": {
            "tags": []
          },
          "execution_count": 98
        }
      ]
    },
    {
      "cell_type": "markdown",
      "metadata": {
        "id": "SBxt6PKGZoZC",
        "colab_type": "text"
      },
      "source": [
        "Vamos a usar MSE (Mean Squared Error - Error Cuadrático Medio) como función de costo"
      ]
    },
    {
      "cell_type": "code",
      "metadata": {
        "id": "pSpvkb3uZofo",
        "colab_type": "code",
        "colab": {
          "base_uri": "https://localhost:8080/",
          "height": 34
        },
        "outputId": "55d20a31-37c5-4c4a-d28d-431ce5b3614f"
      },
      "source": [
        "def loss_fn(predictions, true_y):\n",
        "  return torch.mean((true_y - predictions) ** 2)\n",
        "\n",
        "loss_fn(prediccion, targets)"
      ],
      "execution_count": null,
      "outputs": [
        {
          "output_type": "execute_result",
          "data": {
            "text/plain": [
              "tensor(80.3643)"
            ]
          },
          "metadata": {
            "tags": []
          },
          "execution_count": 83
        }
      ]
    },
    {
      "cell_type": "markdown",
      "metadata": {
        "id": "vX4BbwQleAW8",
        "colab_type": "text"
      },
      "source": [
        "# Actualizando\n",
        "\n",
        "Queremos que el modelo minimize nuestra función de costo, para esto vamos a hacer uso de gradient descent.\n",
        "\n",
        "GD nos dice que una actualización para nuestros pesos esta dada por:\n",
        "\n",
        "***\n",
        "\n",
        "![Image](https://blog.paperspace.com/content/images/2018/05/sgd.png)\n",
        "***\n",
        "\n",
        "Donde alfa es un learning rate en el rango (0-1) y es multiplicado por la derivada del costo con respecto a los pesos. En este caso, necesitamos el gradiente con respecto a los pesos W y el bias B.\n",
        "\n",
        "\n",
        "![Image](https://i.ibb.co/xDW81qF/asd.png)\n",
        "\n",
        "\n"
      ]
    },
    {
      "cell_type": "code",
      "metadata": {
        "id": "c1c1DjVHd_ev",
        "colab_type": "code",
        "colab": {}
      },
      "source": [
        "# Por la regla de la cadena:\n",
        "# dloss/dw = (d loss / d targets) * (d targets / d w)\n",
        "# dloss/db = (d loss / d targets) * (d targets / d b)\n",
        "\n",
        "def d_loss_d_targets(predictions, targets):\n",
        "    return 2 * (targets - predictions) / targets.size(0)\n",
        "\n",
        "def d_model_dw(X, w, b):\n",
        "    return X\n",
        "\n",
        "def d_model_db(X, w, b):\n",
        "    return 1\n",
        "\n",
        "def grad_fn(X, targets, predictions, w, b):\n",
        "    dloss_dw = d_loss_d_targets(predictions, targets) * d_model_dw(X, w, b)\n",
        "    dloss_db = d_loss_d_targets(predictions, targets) * d_model_db(X, w, b)\n",
        "    return torch.tensor([dloss_dw.sum(), dloss_db.sum()])"
      ],
      "execution_count": null,
      "outputs": []
    },
    {
      "cell_type": "code",
      "metadata": {
        "id": "-BI3f6DGn4Up",
        "colab_type": "code",
        "colab": {
          "base_uri": "https://localhost:8080/",
          "height": 34
        },
        "outputId": "4bc94b09-d3be-49a5-910a-eb1c74041e9c"
      },
      "source": [
        "grad_fn(inputs, targets, prediccion, w_test, b_test)"
      ],
      "execution_count": null,
      "outputs": [
        {
          "output_type": "execute_result",
          "data": {
            "text/plain": [
              "tensor([77.6140, 10.6400])"
            ]
          },
          "metadata": {
            "tags": []
          },
          "execution_count": 85
        }
      ]
    },
    {
      "cell_type": "markdown",
      "metadata": {
        "id": "x2BqQluloVbo",
        "colab_type": "text"
      },
      "source": [
        "# Entrenando\n",
        "\n",
        "Ahora que tenemos los gradientes de los pesos y bias, podemos actualizar los parámetros del modelo para ir mejorando nuestras predicciones\n"
      ]
    },
    {
      "cell_type": "code",
      "metadata": {
        "id": "g45vy8JSoWDV",
        "colab_type": "code",
        "colab": {}
      },
      "source": [
        "def training_loop(n_epochs, learning_rate, params, targets, X):\n",
        "    for epoch in range(1, n_epochs + 1):\n",
        "        w, b = params\n",
        "        predictions = model(X, w, b)\n",
        "        w_step, b_step = grad_fn(X, targets, predictions, w, b)\n",
        "        w_upd = w + learning_rate * w_step\n",
        "        b_upd = b + learning_rate * b_step\n",
        "        params = torch.tensor([w_upd, b_upd])\n",
        "        \n",
        "        loss = loss_fn(predictions, targets)\n",
        "        # Imprimir cada 100 epochs\n",
        "        if epoch % 100 == 0:\n",
        "          print('Epoch %d, Loss %f' % (epoch, float(loss)))\n",
        "            \n",
        "    return params"
      ],
      "execution_count": null,
      "outputs": []
    },
    {
      "cell_type": "code",
      "metadata": {
        "id": "gTHYwgTCo77u",
        "colab_type": "code",
        "colab": {
          "base_uri": "https://localhost:8080/",
          "height": 544
        },
        "outputId": "55a49030-293d-4973-fc57-aa7195267098"
      },
      "source": [
        "final_params = training_loop(\n",
        "    n_epochs = 3000, \n",
        "    learning_rate = 1e-2, \n",
        "    params = torch.tensor([1.0, 0.0]), \n",
        "    targets = targets, \n",
        "    X = inputs)\n",
        "\n",
        "final_params"
      ],
      "execution_count": null,
      "outputs": [
        {
          "output_type": "stream",
          "text": [
            "Epoch 100, Loss 22.148710\n",
            "Epoch 200, Loss 16.608065\n",
            "Epoch 300, Loss 12.664560\n",
            "Epoch 400, Loss 9.857801\n",
            "Epoch 500, Loss 7.860115\n",
            "Epoch 600, Loss 6.438281\n",
            "Epoch 700, Loss 5.426306\n",
            "Epoch 800, Loss 4.706045\n",
            "Epoch 900, Loss 4.193403\n",
            "Epoch 1000, Loss 3.828537\n",
            "Epoch 1100, Loss 3.568847\n",
            "Epoch 1200, Loss 3.384014\n",
            "Epoch 1300, Loss 3.252462\n",
            "Epoch 1400, Loss 3.158830\n",
            "Epoch 1500, Loss 3.092190\n",
            "Epoch 1600, Loss 3.044759\n",
            "Epoch 1700, Loss 3.011000\n",
            "Epoch 1800, Loss 2.986974\n",
            "Epoch 1900, Loss 2.969871\n",
            "Epoch 2000, Loss 2.957698\n",
            "Epoch 2100, Loss 2.949034\n",
            "Epoch 2200, Loss 2.942869\n",
            "Epoch 2300, Loss 2.938481\n",
            "Epoch 2400, Loss 2.935356\n",
            "Epoch 2500, Loss 2.933135\n",
            "Epoch 2600, Loss 2.931553\n",
            "Epoch 2700, Loss 2.930426\n",
            "Epoch 2800, Loss 2.929624\n",
            "Epoch 2900, Loss 2.929054\n",
            "Epoch 3000, Loss 2.928648\n"
          ],
          "name": "stdout"
        },
        {
          "output_type": "execute_result",
          "data": {
            "text/plain": [
              "tensor([  5.3489, -17.1980])"
            ]
          },
          "metadata": {
            "tags": []
          },
          "execution_count": 74
        }
      ]
    },
    {
      "cell_type": "code",
      "metadata": {
        "id": "zkpVpNMbpcDC",
        "colab_type": "code",
        "colab": {
          "base_uri": "https://localhost:8080/",
          "height": 279
        },
        "outputId": "ec70622d-db8f-4edd-a6a2-08025d2bb9e1"
      },
      "source": [
        "from matplotlib import pyplot as plt\n",
        "\n",
        "preds = model(inputs, *final_params)  \n",
        "\n",
        "plt.xlabel(\"Temperature (Unknown)\")\n",
        "plt.ylabel(\"Temperature (°Celsius)\")\n",
        "plt.plot(inputs.numpy(), preds.detach().numpy()) \n",
        "plt.plot(inputs.numpy(), targets.numpy(), 'o')\n",
        "plt.show()"
      ],
      "execution_count": null,
      "outputs": [
        {
          "output_type": "display_data",
          "data": {
            "image/png": "[encoded data removed]",
            "text/plain": [
              "<Figure size 432x288 with 1 Axes>"
            ]
          },
          "metadata": {
            "tags": [],
            "needs_background": "light"
          }
        }
      ]
    },
    {
      "cell_type": "markdown",
      "metadata": {
        "id": "ooaZp7spsMhq",
        "colab_type": "text"
      },
      "source": [
        "# Como se resuelve el mismo ejercicio cuando dejamos que Pytorch nos ayude?\n",
        "\n",
        "Resuelva el mismo problema pero haciendo uso de Pytorch en su totalidad, defina w y b como un torch.parameter (requires_grad=True!!!) y haga uso de loss.backward() para computar los gradientes. "
      ]
    },
    {
      "cell_type": "code",
      "metadata": {
        "id": "rQ_ph1oTbMO1",
        "colab_type": "code",
        "colab": {}
      },
      "source": [
        "def training_with_torch(n_epochs, learning_rate, params, targets, X):\n",
        "    optimizer = torch.optim.SGD([params], lr=learning_rate)\n",
        "    for epoch in range(1, n_epochs + 1):\n",
        "        predictions = model(X, *params)\n",
        "        optimizer.zero_grad()\n",
        "        loss = loss_fn(predictions, targets)\n",
        "        loss.backward()\n",
        "        optimizer.step()\n",
        "\n",
        "        # Imprimir cada 100 epochs\n",
        "        if epoch % 100 == 0:\n",
        "          print('Epoch %d, Loss %f' % (epoch, loss))\n",
        "            \n",
        "    return params"
      ],
      "execution_count": null,
      "outputs": []
    },
    {
      "cell_type": "code",
      "metadata": {
        "id": "JQwYHM5wdGIy",
        "colab_type": "code",
        "colab": {
          "base_uri": "https://localhost:8080/",
          "height": 544
        },
        "outputId": "2c7651c9-2065-4164-88fc-f9d8bc2f2919"
      },
      "source": [
        "final_params2 = training_with_torch(\n",
        "    n_epochs = 3000, \n",
        "    learning_rate = 1e-2, \n",
        "    params = torch.tensor([1.0, 0.0], requires_grad=True), \n",
        "    targets = targets, \n",
        "    X = inputs)\n",
        "\n",
        "final_params2"
      ],
      "execution_count": null,
      "outputs": [
        {
          "output_type": "stream",
          "text": [
            "Epoch 100, Loss 22.148710\n",
            "Epoch 200, Loss 16.608065\n",
            "Epoch 300, Loss 12.664560\n",
            "Epoch 400, Loss 9.857801\n",
            "Epoch 500, Loss 7.860115\n",
            "Epoch 600, Loss 6.438281\n",
            "Epoch 700, Loss 5.426306\n",
            "Epoch 800, Loss 4.706045\n",
            "Epoch 900, Loss 4.193403\n",
            "Epoch 1000, Loss 3.828537\n",
            "Epoch 1100, Loss 3.568847\n",
            "Epoch 1200, Loss 3.384015\n",
            "Epoch 1300, Loss 3.252462\n",
            "Epoch 1400, Loss 3.158830\n",
            "Epoch 1500, Loss 3.092190\n",
            "Epoch 1600, Loss 3.044759\n",
            "Epoch 1700, Loss 3.011000\n",
            "Epoch 1800, Loss 2.986973\n",
            "Epoch 1900, Loss 2.969869\n",
            "Epoch 2000, Loss 2.957697\n",
            "Epoch 2100, Loss 2.949034\n",
            "Epoch 2200, Loss 2.942869\n",
            "Epoch 2300, Loss 2.938481\n",
            "Epoch 2400, Loss 2.935356\n",
            "Epoch 2500, Loss 2.933135\n",
            "Epoch 2600, Loss 2.931553\n",
            "Epoch 2700, Loss 2.930426\n",
            "Epoch 2800, Loss 2.929624\n",
            "Epoch 2900, Loss 2.929053\n",
            "Epoch 3000, Loss 2.928647\n"
          ],
          "name": "stdout"
        },
        {
          "output_type": "execute_result",
          "data": {
            "text/plain": [
              "tensor([  5.3489, -17.1980], requires_grad=True)"
            ]
          },
          "metadata": {
            "tags": []
          },
          "execution_count": 159
        }
      ]
    },
    {
      "cell_type": "code",
      "metadata": {
        "id": "7T9um0ISdKBc",
        "colab_type": "code",
        "colab": {
          "base_uri": "https://localhost:8080/",
          "height": 279
        },
        "outputId": "e84cbf52-85a2-45bd-b8e1-0a9d0e1e58dd"
      },
      "source": [
        "from matplotlib import pyplot as plt\n",
        "\n",
        "preds = model(inputs, *final_params2)\n",
        "\n",
        "plt.xlabel(\"Temperature (Unknown)\")\n",
        "plt.ylabel(\"Temperature (°Celsius)\")\n",
        "plt.plot(inputs.numpy(), preds.detach().numpy()) \n",
        "plt.plot(inputs.numpy(), targets.numpy(), 'o')\n",
        "plt.show()"
      ],
      "execution_count": null,
      "outputs": [
        {
          "output_type": "display_data",
          "data": {
            "image/png": "[encoded data removed]",
            "text/plain": [
              "<Figure size 432x288 with 1 Axes>"
            ]
          },
          "metadata": {
            "tags": [],
            "needs_background": "light"
          }
        }
      ]
    }
  ]
}